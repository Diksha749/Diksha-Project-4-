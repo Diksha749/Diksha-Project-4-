{
  "nbformat": 4,
  "nbformat_minor": 0,
  "metadata": {
    "colab": {
      "provenance": []
    },
    "kernelspec": {
      "name": "python3",
      "display_name": "Python 3"
    },
    "language_info": {
      "name": "python"
    }
  },
  "cells": [
    {
      "cell_type": "markdown",
      "source": [
        "Q1. Explain the purpose and advantages of NumPy in scientific computing and data analysis. How does it enhance Python's capabilities for numerical operations?\n",
        "\n",
        "Ans. NumPy is the cornerstone of scientific computing in Python. Here's a breakdown of its purpose, advantages, and how it enhances Python's numerical capabilities:\n",
        "\n",
        "-> Purpose:\n",
        "\n",
        " Efficient Array Operations: NumPy's primary goal is to provide efficient support for large, multi-dimensional arrays and matrices.\n",
        "\n",
        "-> Advantages:\n",
        "\n",
        " * Speed and Efficiency:-\n",
        "\n",
        "Vectorization: NumPy allows you to perform operations on entire arrays at once, rather than looping through individual elements. This leverages optimized C/C++ code under the hood, resulting in significant speed improvements.\n",
        "\n",
        "Memory Efficiency: NumPy arrays are more memory-efficient than Python lists, especially for large datasets.\n",
        "\n",
        "* Broad Functionality:-\n",
        "\n",
        "Offers a vast collection of high-level mathematical functions for linear algebra, Fourier transforms, random number generation, and more.\n",
        "\n",
        "Foundation for Other Libraries: NumPy serves as the foundation for many other scientific Python libraries, such as SciPy, pandas, and scikit-learn.\n",
        "\n",
        "How it enhances Python:\n",
        "\n",
        "Efficient Data Structures: Introduces the ndarray object, a powerful data structure optimized for numerical computations.\n",
        "\n",
        "Linear Algebra Support: Provides efficient implementations of linear algebra operations like matrix multiplication, eigenvalues, and singular value decomposition.\n",
        "\n",
        "Broadcasting: Enables operations between arrays of different shapes, simplifying complex calculations.\n",
        "\n",
        "In summary:\n",
        "\n",
        "NumPy bridges the gap between Python's high-level syntax and the performance of low-level languages for numerical computing. Its efficient array operations, extensive mathematical functions, and integration with other scientific libraries make it an indispensable tool for data scientists, researchers, and engineers."
      ],
      "metadata": {
        "id": "l53aAI1eUT-Y"
      }
    },
    {
      "cell_type": "markdown",
      "source": [
        "Q2. Compare and contrast np.mean() and np.average() functions in NumPy. When would you use one over the other?\n",
        "\n",
        "Ans. * np.mean():\n",
        "\n",
        "Calculates the arithmetic mean of an array.\n",
        "Simple and efficient for calculating the average of a set of values where all values have equal weight.\n",
        "\n",
        "* np.average():\n",
        "\n",
        "More versatile.\n",
        "\n",
        "Calculates the weighted average by default if weights are provided.\n",
        "Can also be used to calculate the arithmetic mean (if no weights are provided).\n",
        "\n",
        "When to Use:>\n",
        "\n",
        "np.mean(): Ideal for most common use cases where all values have equal weight.\n",
        "\n",
        "np.average():\n",
        "Use when you need to calculate a weighted average.\n",
        "Example: Calculating the average grade in a class where some assignments have more weight than others.\n",
        "Example: Determining the average stock price based on trading volume (volume as weights).\n",
        "\n",
        "In Summary:\n",
        "\n",
        "np.mean() is suitable for standard averaging needs.\n",
        "np.average() offers more flexibility, especially when dealing with weighted data."
      ],
      "metadata": {
        "id": "_IIqcoULci9G"
      }
    },
    {
      "cell_type": "markdown",
      "source": [
        "Q3. Describe the methods of for reversing a NumPy array along different axes. Provide examples for 1D and 2D arrays.\n",
        "\n",
        "Ans. Reversing NumPy Arrays:>\n",
        "\n",
        "* np.flip(a, axis=None):\n",
        "\n",
        "* This is the primary method for reversing arrays along specified axes.\n",
        "\n",
        "* axis:\n",
        "If None (default), reverses the order of elements in all dimensions of the array.\n",
        "\n",
        "If an integer, reverses the order of elements along the specified axis.\n",
        "Examples:\n",
        "\n",
        "1D Array:"
      ],
      "metadata": {
        "id": "ojX4G45AmUkR"
      }
    },
    {
      "cell_type": "code",
      "execution_count": null,
      "metadata": {
        "id": "YTParFLKUQ-J"
      },
      "outputs": [],
      "source": [
        "import numpy as np\n",
        "\n",
        "arr1d = np.array([1, 2, 3, 4, 5])\n",
        "reversed_arr1d = np.flip(arr1d)\n",
        "print(reversed_arr1d)  # Output: [5 4 3 2 1]"
      ]
    },
    {
      "cell_type": "code",
      "source": [
        "1D Array:>\n",
        "\n",
        "arr2d = np.array([[1, 2, 3],\n",
        "                  [4, 5, 6]])\n",
        "\n",
        "# Reverse along the first axis (rows)\n",
        "reversed_rows = np.flip(arr2d, axis=0)\n",
        "print(reversed_rows)\n",
        "# Output:\n",
        "# [[4 5 6]\n",
        "#  [1 2 3]]\n",
        "\n",
        "# Reverse along the second axis (columns)\n",
        "reversed_cols = np.flip(arr2d, axis=1)\n",
        "print(reversed_cols)\n",
        "# Output:\n",
        "# [[3 2 1]\n",
        "#  [6 5 4]]\n",
        "\n",
        "# Reverse along all axes\n",
        "reversed_all = np.flip(arr2d)\n",
        "print(reversed_all)\n",
        "# Output:\n",
        "# [[6 5 4]\n",
        "#  [3 2 1]]"
      ],
      "metadata": {
        "id": "WD2wQ8oKoPoO"
      },
      "execution_count": null,
      "outputs": []
    },
    {
      "cell_type": "markdown",
      "source": [
        "Q4. How can you determine the data types of elements in a NumPy array? Discuss the importance of data types in memory management and performance.\n",
        "\n",
        "Ans. Determining Data Types in NumPy Arrays:\n",
        "\n",
        "dtype attribute: The most direct way to determine the data type of elements in a NumPy array is using the dtype attribute."
      ],
      "metadata": {
        "id": "A0y4U68o1SQC"
      }
    },
    {
      "cell_type": "code",
      "source": [
        "import numpy as np\n",
        "\n",
        "arr = np.array([1, 2, 3.0])\n",
        "print(arr.dtype)  # Output: float64"
      ],
      "metadata": {
        "id": "KeMjtNcb2POI"
      },
      "execution_count": null,
      "outputs": []
    },
    {
      "cell_type": "markdown",
      "source": [
        "Importance of Data Types in Memory Management and Performance:\n",
        "\n",
        "Memory Efficiency:\n",
        "\n",
        "* Data types directly influence the amount of memory used to store the array.\n",
        "\n",
        "* Using smaller data types (e.g., int32 instead of int64) when possible can significantly reduce memory consumption, especially for large arrays.\n",
        "\n",
        "Performance:\n",
        "\n",
        "* NumPy operations are optimized for specific data types.\n",
        "\n",
        "* Using the correct data type can lead to significant performance improvements in calculations and memory access.\n",
        "\n",
        "For example, operations on arrays of integers are generally faster than operations on arrays of floating-point numbers.\n",
        "\n",
        "In summary:\n",
        "\n",
        "Understanding and choosing the appropriate data type for your NumPy arrays is crucial for efficient memory usage and optimal performance in your numerical computations. By carefully selecting data types, you can minimize memory consumption and maximize the speed of your NumPy operations."
      ],
      "metadata": {
        "id": "B6qqPex72Sy-"
      }
    },
    {
      "cell_type": "markdown",
      "source": [
        "Q5. Define ndarrays in NumPy and explain their key features. How do they differ from standard Python lists?\n",
        "\n",
        "Ans. ndarrays in NumPy\n",
        "\n",
        "-> Definition:\n",
        "\n",
        "* ndarray (N-dimensional array) is the fundamental data structure in NumPy.\n",
        "\n",
        "* It represents a multi-dimensional, homogeneous array of elements (usually numbers).\n",
        "\n",
        "* Homogeneous means all elements must have the same data type (e.g., integers, floats).\n",
        "\n",
        "-> Key Features:\n",
        "\n",
        "* Speed and Efficiency:\n",
        "\n",
        "*Implemented in C, making them significantly faster than Python lists for numerical operations.\n",
        "\n",
        "*Vectorized operations allow you to perform operations on entire arrays at once, leading to significant performance gains.\n",
        "\n",
        "* Memory Efficiency:\n",
        "\n",
        "*More memory-efficient than Python lists, especially for large datasets.\n",
        "\n",
        "* Multidimensional Support:\n",
        "\n",
        "*Can represent arrays of any dimension (1D, 2D, 3D, etc.).\n",
        "\n",
        "* Data Type Homogeneity:\n",
        "\n",
        "All elements in an array must have the same data type, which allows for optimized memory allocation and faster computations."
      ],
      "metadata": {
        "id": "UCwOPKce2mIQ"
      }
    },
    {
      "cell_type": "markdown",
      "source": [
        "\n",
        "Q6. Analyze the performance benefits of NumPy arrays over Python lists for large-scale numerical operations.\n",
        "\n",
        "Ans. NumPy arrays offer significant performance benefits over Python lists for large-scale numerical operations due to these key factors:\n",
        "\n",
        "* Vectorization: NumPy allows you to perform operations on entire arrays at once instead of looping through individual elements. This leverages optimized C/C++ code under the hood, resulting in much faster execution.\n",
        "\n",
        "* Memory Efficiency: NumPy arrays are more memory-efficient than Python lists, especially for large datasets. This is because:\n",
        "\n",
        "* Homogeneous Data Type: All elements in a NumPy array must have the same data type, allowing for more efficient memory allocation and data storage. Python lists, on the other hand, can store elements of different data types, which requires more overhead.\n",
        "\n",
        "* Contiguous Memory Allocation: NumPy arrays store data in contiguous blocks of memory, enabling faster access and improved cache utilization.\n",
        "\n",
        "* Optimized for Numerical Operations: NumPy is specifically designed for efficient numerical computations. It provides optimized implementations for a wide range of mathematical functions, including linear algebra operations, statistical functions, and more.\n",
        "\n",
        "In essence:\n",
        "\n",
        "NumPy's optimized data structures, vectorized operations, and efficient memory management make it significantly faster than Python lists for most numerical computations. This performance advantage is crucial for handling large datasets and performing complex calculations efficiently in scientific computing and data analysis."
      ],
      "metadata": {
        "id": "ZwHsaieH4RZA"
      }
    },
    {
      "cell_type": "markdown",
      "source": [
        "Q7. Compare vstack() and hstack() functions in NumPy. Provide examples demonstrating their usage and output.\n",
        "\n",
        "Ans. np.vstack():\n",
        "\n",
        "*Vertical Stacking: Stacks arrays row-wise.\n",
        "\n",
        "*Requires the number of columns to be the same in all input arrays.\n",
        "\n",
        "Example:"
      ],
      "metadata": {
        "id": "vc32uzXt6AHN"
      }
    },
    {
      "cell_type": "code",
      "source": [
        "import numpy as np\n",
        "\n",
        "a = np.array([1, 2, 3])\n",
        "b = np.array([4, 5, 6])\n",
        "\n",
        "stacked_array = np.vstack((a, b))\n",
        "print(stacked_array)\n",
        "# Output:\n",
        "# array([[1, 2, 3],\n",
        "#        [4, 5, 6]])"
      ],
      "metadata": {
        "id": "3y_61dDe60_q"
      },
      "execution_count": null,
      "outputs": []
    },
    {
      "cell_type": "markdown",
      "source": [
        "* np.hstack():\n",
        "\n",
        "*Horizontal Stacking: Stacks arrays column-wise.\n",
        "\n",
        "*Requires the number of rows to be the same in all input arrays.\n",
        "\n",
        "Example:>"
      ],
      "metadata": {
        "id": "EprpT8JA65xh"
      }
    },
    {
      "cell_type": "code",
      "source": [
        "a = np.array([[1], [2], [3]])\n",
        "b = np.array([[4], [5], [6]])\n",
        "\n",
        "stacked_array = np.hstack((a, b))\n",
        "print(stacked_array)\n",
        "# Output:\n",
        "# array([[1, 4],\n",
        "#        [2, 5],\n",
        "#        [3, 6]])"
      ],
      "metadata": {
        "id": "fOMtbtXc7LHe"
      },
      "execution_count": null,
      "outputs": []
    },
    {
      "cell_type": "markdown",
      "source": [
        "In Summary:\n",
        "\n",
        "* np.vstack() joins arrays vertically, adding rows.\n",
        "\n",
        "* np.hstack() joins arrays horizontally, adding columns.\n",
        "\n",
        "Choose vstack() when you want to add rows to an existing array, and hstack() when you want to add columns."
      ],
      "metadata": {
        "id": "oHwiZ5-I7Yxm"
      }
    },
    {
      "cell_type": "markdown",
      "source": [
        "Q8. Explain the differences between fliplr() and flipud() methods in NumPy, including their effects on various array dimensions.\n",
        "\n",
        "Ans.np.fliplr():\n",
        "\n",
        "*Flips the array horizontally.\n",
        "\n",
        "*In 2D arrays, it reverses the order of elements along the columns.\n",
        "\n",
        "* np.flipud():\n",
        "\n",
        "*Flips the array vertically.\n",
        "\n",
        "*In 2D arrays, it reverses the order of elements along the rows.\n",
        "\n",
        "-> Key Differences:\n",
        "\n",
        "* Axis of Reversal:\n",
        "\n",
        "*fliplr() reverses along the horizontal axis (columns).\n",
        "\n",
        "*flipud() reverses along the vertical axis (rows).\n",
        "\n",
        "* Effects on Different Array Dimensions:\n",
        "\n",
        "*1D Array:\n",
        "\n",
        "* fliplr() and flipud() have the same effect as np.flip() on a 1D array: they reverse the order of elements.\n",
        "\n",
        "*2D Array:\n",
        "\n",
        "* fliplr() reverses the order of elements within each row.\n",
        "\n",
        "* flipud() reverses the order of rows in the array.\n",
        "\n",
        "* Higher Dimensions:\n",
        "\n",
        "Both functions can be used with higher-dimensional arrays, but their effects become more complex depending on the specified axis.\n",
        "\n",
        "In Summary:\n",
        "\n",
        "* fliplr() and flipud() are specialized functions for flipping arrays along specific axes.\n",
        "\n",
        "* fliplr() is for horizontal flipping, and flipud() is for vertical flipping.\n",
        "\n",
        "* For more general array flipping along any axis, use np.flip(a, axis=...)."
      ],
      "metadata": {
        "id": "8z8L-x1K7vSH"
      }
    },
    {
      "cell_type": "markdown",
      "source": [
        "Q9. Discuss the functionality of the array_spilt() methods in NumPy. How does it handle uneven spilts?\n",
        "\n",
        "Ans. The np.array_split() function in NumPy is used to split an array into multiple sub-arrays.\n",
        "-> Key Functionality:\n",
        "\n",
        "* Flexibility in Splitting: Unlike np.split(), np.array_split() allows for uneven splitting of the array. This is particularly useful when the array cannot be evenly divided into the desired number of sub-arrays.\n",
        "\n",
        "* Handling Uneven Splits:\n",
        "If the array cannot be evenly divided by the specified number of splits, np.array_split() distributes the extra elements among the sub-arrays, ensuring that the resulting sub-arrays have approximately equal sizes.\n",
        "\n",
        "Example:"
      ],
      "metadata": {
        "id": "CU005YXn9dtL"
      }
    },
    {
      "cell_type": "code",
      "source": [
        "import numpy as np\n",
        "\n",
        "arr = np.arange(10)  # Array from 0 to 9\n",
        "\n",
        "# Split into 3 sub-arrays (uneven split)\n",
        "sub_arrays = np.array_split(arr, 3)\n",
        "\n",
        "print(sub_arrays)\n",
        "# Output:\n",
        "# [array([0, 1, 2, 3]), array([4, 5, 6]), array([7, 8, 9])]\n"
      ],
      "metadata": {
        "id": "LJ5k1FjB-p0Y"
      },
      "execution_count": null,
      "outputs": []
    },
    {
      "cell_type": "markdown",
      "source": [
        "In this example, the array is split into 3 sub-arrays. Since 10 is not evenly divisible by 3, the first two sub-arrays have 4 elements each, and the last sub-array has 2 elements.\n",
        "\n",
        "In summary:\n",
        "\n",
        "np.array_split() provides a flexible way to split arrays into multiple sub-arrays, effectively handling situations where even division is not possible. This is valuable for various data processing tasks, such as dividing large datasets into smaller chunks for parallel processing or for cross-validation in machine learning."
      ],
      "metadata": {
        "id": "4_WzYjIr-rKa"
      }
    },
    {
      "cell_type": "markdown",
      "source": [
        "Q10. Explain the concepts of vectorization and broadcasting in NumPy. How do they contribute to efficient array operations?\n",
        "\n",
        "Ans.-> Vectorization:\n",
        "\n",
        "* Concept: Performing operations on entire arrays at once, rather than iterating over individual elements using Python loops.\n",
        "\n",
        "* Benefits:\n",
        "\n",
        "*Leverages optimized C/C++ code under the hood for significantly faster execution.\n",
        "\n",
        "*Eliminates the overhead of Python's loop interpretation, resulting in substantial performance gains.\n",
        "\n",
        "* Broadcasting:\n",
        "\n",
        "*Concept: A powerful mechanism that allows NumPy to perform operations on arrays with different shapes.\n",
        "\n",
        "*Rules: NumPy attempts to automatically \"broadcast\" the shape of smaller arrays to match the shape of the larger array before performing the operation. This is possible under certain conditions (e.g., one array has dimensions of size 1).\n",
        "\n",
        "* How they contribute to efficiency:\n",
        "\n",
        "*Vectorization: By eliminating the need for explicit loops, vectorization leverages the power of NumPy's optimized C/C++ implementations, leading to dramatic speed improvements for numerical computations.\n",
        "\n",
        "*Broadcasting: Enables efficient operations on arrays of different shapes without the need to manually reshape or duplicate data. This reduces memory usage and simplifies code.\n",
        "\n",
        "Example:"
      ],
      "metadata": {
        "id": "v9uDagoI-1BB"
      }
    },
    {
      "cell_type": "code",
      "source": [
        "import numpy as np\n",
        "\n",
        "arr1 = np.array([1, 2, 3])  # 1D array\n",
        "arr2 = 5  # Scalar (treated as an array with shape (,))\n",
        "\n",
        "result = arr1 + arr2  # Broadcasting: scalar 5 is added to each element of arr1\n",
        "\n",
        "print(result)  # Output: [6 7 8]"
      ],
      "metadata": {
        "id": "alhFh7ah_yEW"
      },
      "execution_count": null,
      "outputs": []
    },
    {
      "cell_type": "markdown",
      "source": [
        "In this example, the scalar value 5 is \"broadcast\" across the entire array arr1, resulting in element-wise addition without the need for explicit looping.\n",
        "\n",
        "Both vectorization and broadcasting are key concepts that contribute significantly to the efficiency and ease of use of NumPy for numerical computations."
      ],
      "metadata": {
        "id": "g7yc9xR9_2TM"
      }
    },
    {
      "cell_type": "markdown",
      "source": [
        "Q11. Create a 3x3 NumPy array with random integers between 1 and 100 . Then, interchange its rows and columns.\n",
        "\n",
        "Ans. np.vstack(): Stacks arrays vertically, adding rows. Requires the number of columns to be the same in all input arrays.\n",
        "\n",
        "np.hstack(): Stacks arrays horizontally, adding columns. Requires the number of rows to be the same in all input arrays.\n",
        "\n",
        "Examples:"
      ],
      "metadata": {
        "id": "1ZyYjNNL_7FG"
      }
    },
    {
      "cell_type": "code",
      "source": [
        "import numpy as np\n",
        "\n",
        "a = np.array([1, 2, 3])  # 1D array\n",
        "b = np.array([4, 5, 6])\n",
        "\n",
        "# Vertical stacking\n",
        "stacked_vertical = np.vstack((a, b))\n",
        "print(stacked_vertical)\n",
        "# Output:\n",
        "# [[1 2 3]\n",
        "#  [4 5 6]]\n",
        "\n",
        "a = np.array([[1], [2], [3]])  # 2D array (column vector)\n",
        "b = np.array([[4], [5], [6]])\n",
        "\n",
        "# Horizontal stacking\n",
        "stacked_horizontal = np.hstack((a, b))\n",
        "print(stacked_horizontal)\n",
        "# Output:\n",
        "# [[1 4]\n",
        "#  [2 5]\n",
        "#  [3 6]]"
      ],
      "metadata": {
        "id": "N1E_5dlfsbzp"
      },
      "execution_count": null,
      "outputs": []
    },
    {
      "cell_type": "markdown",
      "source": [
        "These functions are essential for building larger arrays from smaller ones in various data manipulation tasks."
      ],
      "metadata": {
        "id": "EH9QDJwGsi3r"
      }
    },
    {
      "cell_type": "markdown",
      "source": [
        "Q12. Generate a 1D NumPy array with 10 elements. Reshape it into a 2x5 array, then into a 5x2 array."
      ],
      "metadata": {
        "id": "5Ukx0udwspQU"
      }
    },
    {
      "cell_type": "code",
      "source": [
        "Ans. import numpy as np\n",
        "\n",
        "# Generate a 1D array with 10 random integers\n",
        "arr = np.random.randint(1, 101, 10)\n",
        "print(\"Original 1D array:\", arr)\n",
        "\n",
        "# Reshape to 2x5 array\n",
        "arr_2x5 = arr.reshape(2, 5)\n",
        "print(\"Reshaped to 2x5:\", arr_2x5)\n",
        "\n",
        "# Reshape to 5x2 array\n",
        "arr_5x2 = arr.reshape(5, 2)\n",
        "print(\"Reshaped to 5x2:\", arr_5x2)"
      ],
      "metadata": {
        "id": "DQ_KiSvGtmrM"
      },
      "execution_count": null,
      "outputs": []
    },
    {
      "cell_type": "markdown",
      "source": [
        "This code snippet:\n",
        "\n",
        "1. Generates a 1D array: np.random.randint(1, 101, 10) creates an array with 10 random integers between 1 and 100 (inclusive).\n",
        "\n",
        "2. Reshapes to 2x5: arr.reshape(2, 5) reshapes the 1D array into a 2D array with 2 rows and 5 columns.\n",
        "\n",
        "3. Reshapes to 5x2: arr.reshape(5, 2) reshapes the 1D array into a 2D array with 5 rows and 2 columns.\n",
        "\n",
        "This demonstrates how to easily reshape a NumPy array using the reshape() method, which is a powerful tool for manipulating array dimensions."
      ],
      "metadata": {
        "id": "lLleNUBhtowr"
      }
    },
    {
      "cell_type": "markdown",
      "source": [
        "Q13. Create a 4x4 NumPy array with random float values. Add a border of zeros around it, resulting into 6x6 array."
      ],
      "metadata": {
        "id": "qyqy35a0t3XS"
      }
    },
    {
      "cell_type": "code",
      "source": [
        "Ans. import numpy as np\n",
        "\n",
        "# Create a 4x4 array with random float values\n",
        "arr = np.random.rand(4, 4)\n",
        "\n",
        "# Create a 6x6 array filled with zeros\n",
        "padded_arr = np.zeros((6, 6))\n",
        "\n",
        "# Place the original array within the padded array\n",
        "padded_arr[1:5, 1:5] = arr\n",
        "\n",
        "print(\"Original Array:\\n\", arr)\n",
        "print(\"\\nArray with Zero Border:\\n\", padded_arr)"
      ],
      "metadata": {
        "id": "RBTIZRIeudJ8"
      },
      "execution_count": null,
      "outputs": []
    },
    {
      "cell_type": "markdown",
      "source": [
        "This code does the following:\n",
        "\n",
        "1. Creates a 4x4 array:\n",
        "\n",
        "* np.random.rand(4, 4) creates a 4x4 NumPy array filled with random floating-point values between 0 and 1.\n",
        "\n",
        "2. Creates a 6x6 array of zeros:\n",
        "\n",
        "* np.zeros((6, 6)) creates a 6x6 array filled with zeros.\n",
        "\n",
        "3. Places the original array within the padded array:\n",
        "\n",
        "* padded_arr[1:5, 1:5] = arr\n",
        "* This line places the original 4x4 array (arr) within the center of the 6x6 array (padded_arr).\n",
        "* The slicing [1:5, 1:5] selects the inner 4x4 portion of the 6x6 array.\n",
        "\n",
        "This effectively adds a single row and column of zeros around the original array, resulting in a 6x6 array with the original values embedded within it."
      ],
      "metadata": {
        "id": "CXwkrPQwu9Hl"
      }
    },
    {
      "cell_type": "markdown",
      "source": [
        "Q14. Using a NumPy, create an array of integers from 10 to 60 with a step of ."
      ],
      "metadata": {
        "id": "GP4vThwcvXv1"
      }
    },
    {
      "cell_type": "code",
      "source": [
        "Ans. import numpy as np\n",
        "\n",
        "# Create an array of integers from 10 to 60 with a step of 5\n",
        "my_array = np.arange(10, 61, 5)\n",
        "\n",
        "print(my_array)\n",
        "This code will output:\n",
        "\n",
        "[10 15 20 25 30 35 40 45 50 55 60]"
      ],
      "metadata": {
        "id": "Eg20hdGzv4y_"
      },
      "execution_count": null,
      "outputs": []
    },
    {
      "cell_type": "markdown",
      "source": [
        "* np.arange(start, stop, step): This is the core function used to create arrays of evenly spaced values.\n",
        "* start: The starting value of the sequence (inclusive).\n",
        "* stop: The end value of the sequence (exclusive).\n",
        "* step: The difference between consecutive values in the sequence.\n",
        "\n",
        "This concise example demonstrates how to use np.arange() to efficiently create an array of integers with a specific step size."
      ],
      "metadata": {
        "id": "dgymVsVjv6M2"
      }
    },
    {
      "cell_type": "markdown",
      "source": [
        "Q15. Create a NumPy array of strings ['python','numpy','pandas']. Apply different case transfomations (uppercase,lowercase,title case,etc.) to each element."
      ],
      "metadata": {
        "id": "wZ7sZaijwMdg"
      }
    },
    {
      "cell_type": "code",
      "source": [
        "Ans. import numpy as np\n",
        "\n",
        "# Create a NumPy array of strings\n",
        "arr = np.array(['python', 'numpy', 'pandas'])\n",
        "\n",
        "# Apply case transformations\n",
        "lowercase_arr = arr.astype(str).lower()  # Convert to lowercase\n",
        "uppercase_arr = arr.astype(str).upper()  # Convert to uppercase\n",
        "title_case_arr = arr.astype(str).title()  # Convert to title case\n",
        "\n",
        "print(\"Original Array:\", arr)\n",
        "print(\"Lowercase:\", lowercase_arr)\n",
        "print(\"Uppercase:\", uppercase_arr)\n",
        "print(\"Title Case:\", title_case_arr)"
      ],
      "metadata": {
        "id": "GjIDYr2gxK0K"
      },
      "execution_count": null,
      "outputs": []
    },
    {
      "cell_type": "markdown",
      "source": [
        "Explanation:\n",
        "\n",
        "1. Create the array: We create a NumPy array arr containing the strings 'python', 'numpy', and 'pandas'.\n",
        "2. Case transformations:\n",
        "* arr.astype(str).lower(): Converts all characters in each string to lowercase.\n",
        "* arr.astype(str).upper(): Converts all characters in each string to uppercase.\n",
        "* arr.astype(str).title(): Capitalizes the first character of each word in each string.\n",
        "\n",
        "This demonstrates how to easily apply various case transformations to a NumPy array of strings using built-in functions."
      ],
      "metadata": {
        "id": "DHVV_D0dxMZI"
      }
    },
    {
      "cell_type": "markdown",
      "source": [
        "Q16. Generate a NumPy array of words. Insert a space between each character of every word in the array."
      ],
      "metadata": {
        "id": "ub9jJuNLxeiz"
      }
    },
    {
      "cell_type": "code",
      "source": [
        "Ans. import numpy as np\n",
        "\n",
        "words = np.array([\"hello\", \"world\", \"numpy\"])\n",
        "\n",
        "# Insert a space between each character\n",
        "spaced_words = np.char.join(\" \", words)\n",
        "\n",
        "print(spaced_words)\n",
        "# Output: ['h e l l o' 'w o r l d' 'n u m p y']"
      ],
      "metadata": {
        "id": "SDUkdXPMx_bT"
      },
      "execution_count": null,
      "outputs": []
    },
    {
      "cell_type": "markdown",
      "source": [
        "Explanation:\n",
        "\n",
        "1. Create the array: We create a NumPy array words containing the strings 'hello', 'world', and 'numpy'.\n",
        "2. Insert spaces:\n",
        "* np.char.join(\" \", words) uses the np.char.join() function to insert a space between each character of each string in the array.\n",
        "\n",
        "This demonstrates a concise way to modify strings within a NumPy array using the np.char module."
      ],
      "metadata": {
        "id": "Ay9c_IAvyBv3"
      }
    },
    {
      "cell_type": "markdown",
      "source": [
        "Q17. Create two 2D NumPy arrays and perform element-wise addition,substraction,multiplication, and division.\n"
      ],
      "metadata": {
        "id": "ZEereo5tyOwZ"
      }
    },
    {
      "cell_type": "code",
      "source": [
        "Ans. import numpy as np\n",
        "\n",
        "# Create two 2D arrays\n",
        "arr1 = np.array([[1, 2], [3, 4]])\n",
        "arr2 = np.array([[5, 6], [7, 8]])\n",
        "\n",
        "# Element-wise addition\n",
        "add_result = arr1 + arr2\n",
        "print(\"Addition:\\n\", add_result)\n",
        "\n",
        "# Element-wise subtraction\n",
        "sub_result = arr1 - arr2\n",
        "print(\"Subtraction:\\n\", sub_result)\n",
        "\n",
        "# Element-wise multiplication\n",
        "mul_result = arr1 * arr2\n",
        "print(\"Multiplication:\\n\", mul_result)\n",
        "\n",
        "# Element-wise division\n",
        "div_result = arr1 / arr2\n",
        "print(\"Division:\\n\", div_result)\n",
        "Output:\n",
        "\n",
        "Addition:\n",
        " [[ 6  8]\n",
        " [10 12]]\n",
        "Subtraction:\n",
        " [[-4 -4]\n",
        " [-4 -4]]\n",
        "Multiplication:\n",
        " [[ 5 12]\n",
        " [21 32]]\n",
        "Division:\n",
        " [[0.2        0.33333333]\n",
        " [0.42857143 0.5       ]]"
      ],
      "metadata": {
        "id": "xVJuIl5myzcH"
      },
      "execution_count": null,
      "outputs": []
    },
    {
      "cell_type": "markdown",
      "source": [
        "Explanation:\n",
        "\n",
        "* NumPy arrays support element-wise operations directly.\n",
        "* The code creates two 2D arrays (arr1 and arr2).\n",
        "* Then, it performs element-wise addition, subtraction, multiplication, and division on these arrays.\n",
        "* The results are new arrays where each element is the result of the corresponding operation on the elements of the input arrays.\n",
        "\n",
        "This demonstrates the ease of performing basic arithmetic operations on NumPy arrays."
      ],
      "metadata": {
        "id": "FYXg6GQgy1xq"
      }
    },
    {
      "cell_type": "markdown",
      "source": [
        "Q18. Use NumPy to create 5x5 identity metrix, then extract its diagonal elements."
      ],
      "metadata": {
        "id": "-yXoN_cczFRB"
      }
    },
    {
      "cell_type": "code",
      "source": [
        "Ans. import numpy as np\n",
        "\n",
        "# Create a 5x5 identity matrix\n",
        "identity_matrix = np.eye(5)\n",
        "\n",
        "# Extract diagonal elements using diagonal()\n",
        "diagonal_elements = np.diag(identity_matrix)\n",
        "\n",
        "print(\"Identity Matrix:\\n\", identity_matrix)\n",
        "print(\"Diagonal Elements:\", diagonal_elements)"
      ],
      "metadata": {
        "id": "N2rAM4ADzxXE"
      },
      "execution_count": null,
      "outputs": []
    },
    {
      "cell_type": "markdown",
      "source": [
        "Explanation:\n",
        "\n",
        "1. Create Identity Matrix:\n",
        "* np.eye(5) creates a 5x5 identity matrix, which is a square matrix with 1's on the main diagonal and 0's elsewhere.\n",
        "2. Extract Diagonal Elements:\n",
        "*np.diag(identity_matrix) extracts the diagonal elements of the matrix and returns them as a 1D array.\n",
        "\n",
        "This demonstrates how to easily create an identity matrix and extract its diagonal elements using NumPy functions."
      ],
      "metadata": {
        "id": "LNie2iylzy8B"
      }
    },
    {
      "cell_type": "markdown",
      "source": [
        "Q19. Generate a NumPy array of 100 random integers between 0 and 1000. Find and display all prime numbers in this array.\n"
      ],
      "metadata": {
        "id": "lRbW0YL50EyS"
      }
    },
    {
      "cell_type": "code",
      "source": [
        "Ans. import numpy as np\n",
        "\n",
        "def is_prime(n):\n",
        "  \"\"\"Checks if a number is prime.\"\"\"\n",
        "  if n <= 1:\n",
        "    return False\n",
        "  for i in range(2, int(n**0.5) + 1):\n",
        "    if n % i == 0:\n",
        "      return False\n",
        "  return True\n",
        "\n",
        "# Generate a NumPy array of 100 random integers\n",
        "arr = np.random.randint(0, 1000, 100)\n",
        "\n",
        "# Find prime numbers in the array\n",
        "prime_numbers = arr[list(filter(is_prime, arr))]\n",
        "\n",
        "print(\"Prime numbers in the array:\", prime_numbers)"
      ],
      "metadata": {
        "id": "Rqo6tLoy0h-p"
      },
      "execution_count": null,
      "outputs": []
    },
    {
      "cell_type": "markdown",
      "source": [
        "Explanation:\n",
        "\n",
        "1. Generate random array:\n",
        "* np.random.randint(0, 1000, 100) creates an array of 100 random integers between 0 and 1000 (inclusive).\n",
        "2. Define a prime number checking function:\n",
        "* The is_prime() function checks if a given number is prime.\n",
        "3. Find prime numbers:\n",
        "\n",
        "* list(filter(is_prime, arr)) creates a list of indices where the corresponding element in the array is prime.\n",
        "* arr[list(filter(is_prime, arr))] uses this list of indices to extract the prime numbers from the original array.\n",
        "\n",
        "This code efficiently finds and displays all prime numbers within the generated array of random integers."
      ],
      "metadata": {
        "id": "S2k2bP0V0jhz"
      }
    },
    {
      "cell_type": "markdown",
      "source": [
        "Q20. Create a NumPy array representing daily temperatures for a month. Calculate and display the weekly average.\n"
      ],
      "metadata": {
        "id": "lhXiX7ZQ06Eh"
      }
    },
    {
      "cell_type": "code",
      "source": [
        "Ans. import numpy as np\n",
        "\n",
        "# Assuming 30 days in the month\n",
        "daily_temperatures = np.random.randint(15, 35, 30)\n",
        "\n",
        "# Reshape the array into 4 weeks (assuming 7 days per week)\n",
        "weekly_temperatures = daily_temperatures.reshape(4, 7)\n",
        "\n",
        "# Calculate the average temperature for each week\n",
        "weekly_averages = np.mean(weekly_temperatures, axis=1)\n",
        "\n",
        "print(\"Daily Temperatures:\", daily_temperatures)\n",
        "print(\"Weekly Averages:\", weekly_averages)"
      ],
      "metadata": {
        "id": "XqK_ejzY1XQa"
      },
      "execution_count": null,
      "outputs": []
    },
    {
      "cell_type": "markdown",
      "source": [
        "Explanation:\n",
        "\n",
        "1.Generate Daily Temperatures:\n",
        "* np.random.randint(15, 35, 30) creates an array of 30 random integers between 15 and 34 (inclusive) representing daily temperatures.\n",
        "2. Reshape into Weekly Temperatures:\n",
        "* daily_temperatures.reshape(4, 7) reshapes the 1D array into a 2D array with 4 rows (weeks) and 7 columns (days per week).\n",
        "3. Calculate Weekly Averages:\n",
        "* np.mean(weekly_temperatures, axis=1) calculates the mean (average) temperature along the first axis (rows), which represents each week.\n",
        "\n",
        "This demonstrates how to use NumPy to efficiently calculate weekly average temperatures from daily temperature data."
      ],
      "metadata": {
        "id": "eDhJ6C6a1Zow"
      }
    }
  ]
}